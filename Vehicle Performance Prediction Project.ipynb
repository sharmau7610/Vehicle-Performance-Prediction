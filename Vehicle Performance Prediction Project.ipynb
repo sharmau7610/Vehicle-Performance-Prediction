{
 "cells": [
  {
   "cell_type": "code",
   "execution_count": 1,
   "id": "38af4117",
   "metadata": {},
   "outputs": [],
   "source": [
    "import numpy as np\n",
    "import pandas as pd\n",
    "from matplotlib import pyplot as plt\n",
    "import seaborn as sns\n",
    "import warnings\n",
    "warnings.filterwarnings('ignore')\n",
    "plt.style.use('fivethirtyeight')\n",
    "%matplotlib inline"
   ]
  },
  {
   "cell_type": "code",
   "execution_count": 2,
   "id": "0f85449c",
   "metadata": {},
   "outputs": [],
   "source": [
    "df = pd.read_csv(r'F:\\Class Assesments and In class -Imarticus\\ML\\linear\\Linear Regression with SGD_Project\\2 Project\\Vehicle Performance Prediction\\Dataset\\data.csv')"
   ]
  },
  {
   "cell_type": "code",
   "execution_count": 3,
   "id": "dc778235",
   "metadata": {},
   "outputs": [
    {
     "data": {
      "text/html": [
       "<div>\n",
       "<style scoped>\n",
       "    .dataframe tbody tr th:only-of-type {\n",
       "        vertical-align: middle;\n",
       "    }\n",
       "\n",
       "    .dataframe tbody tr th {\n",
       "        vertical-align: top;\n",
       "    }\n",
       "\n",
       "    .dataframe thead th {\n",
       "        text-align: right;\n",
       "    }\n",
       "</style>\n",
       "<table border=\"1\" class=\"dataframe\">\n",
       "  <thead>\n",
       "    <tr style=\"text-align: right;\">\n",
       "      <th></th>\n",
       "      <th>origin</th>\n",
       "      <th>cylinders</th>\n",
       "      <th>displacement</th>\n",
       "      <th>horsepower</th>\n",
       "      <th>weight</th>\n",
       "      <th>acceleration</th>\n",
       "      <th>year</th>\n",
       "      <th>name</th>\n",
       "      <th>Kilometer_per_liter</th>\n",
       "    </tr>\n",
       "  </thead>\n",
       "  <tbody>\n",
       "    <tr>\n",
       "      <th>0</th>\n",
       "      <td>1</td>\n",
       "      <td>8</td>\n",
       "      <td>307.0</td>\n",
       "      <td>130</td>\n",
       "      <td>3504</td>\n",
       "      <td>12.0</td>\n",
       "      <td>1970</td>\n",
       "      <td>chevrolet chevelle malibu</td>\n",
       "      <td>7.652587</td>\n",
       "    </tr>\n",
       "    <tr>\n",
       "      <th>1</th>\n",
       "      <td>1</td>\n",
       "      <td>8</td>\n",
       "      <td>350.0</td>\n",
       "      <td>165</td>\n",
       "      <td>3693</td>\n",
       "      <td>11.5</td>\n",
       "      <td>1970</td>\n",
       "      <td>buick skylark 320</td>\n",
       "      <td>6.377156</td>\n",
       "    </tr>\n",
       "    <tr>\n",
       "      <th>2</th>\n",
       "      <td>1</td>\n",
       "      <td>8</td>\n",
       "      <td>318.0</td>\n",
       "      <td>150</td>\n",
       "      <td>3436</td>\n",
       "      <td>11.0</td>\n",
       "      <td>1970</td>\n",
       "      <td>plymouth satellite</td>\n",
       "      <td>7.652587</td>\n",
       "    </tr>\n",
       "    <tr>\n",
       "      <th>3</th>\n",
       "      <td>1</td>\n",
       "      <td>8</td>\n",
       "      <td>304.0</td>\n",
       "      <td>150</td>\n",
       "      <td>3433</td>\n",
       "      <td>12.0</td>\n",
       "      <td>1970</td>\n",
       "      <td>amc rebel sst</td>\n",
       "      <td>6.802299</td>\n",
       "    </tr>\n",
       "  </tbody>\n",
       "</table>\n",
       "</div>"
      ],
      "text/plain": [
       "   origin  cylinders  displacement horsepower  weight  acceleration  year  \\\n",
       "0       1          8         307.0        130    3504          12.0  1970   \n",
       "1       1          8         350.0        165    3693          11.5  1970   \n",
       "2       1          8         318.0        150    3436          11.0  1970   \n",
       "3       1          8         304.0        150    3433          12.0  1970   \n",
       "\n",
       "                        name  Kilometer_per_liter  \n",
       "0  chevrolet chevelle malibu             7.652587  \n",
       "1          buick skylark 320             6.377156  \n",
       "2         plymouth satellite             7.652587  \n",
       "3              amc rebel sst             6.802299  "
      ]
     },
     "execution_count": 3,
     "metadata": {},
     "output_type": "execute_result"
    }
   ],
   "source": [
    "df.head(4)"
   ]
  },
  {
   "cell_type": "markdown",
   "id": "a3517e4a",
   "metadata": {},
   "source": [
    "# Data Preparation"
   ]
  },
  {
   "cell_type": "code",
   "execution_count": 4,
   "id": "2b3bcb1e",
   "metadata": {},
   "outputs": [
    {
     "data": {
      "text/plain": [
       "(398, 9)"
      ]
     },
     "execution_count": 4,
     "metadata": {},
     "output_type": "execute_result"
    }
   ],
   "source": [
    "df.shape"
   ]
  },
  {
   "cell_type": "code",
   "execution_count": 5,
   "id": "1d48d2f6",
   "metadata": {},
   "outputs": [
    {
     "data": {
      "text/plain": [
       "origin                 0\n",
       "cylinders              0\n",
       "displacement           0\n",
       "horsepower             0\n",
       "weight                 0\n",
       "acceleration           0\n",
       "year                   0\n",
       "name                   0\n",
       "Kilometer_per_liter    0\n",
       "dtype: int64"
      ]
     },
     "execution_count": 5,
     "metadata": {},
     "output_type": "execute_result"
    }
   ],
   "source": [
    "df.isna().sum()"
   ]
  },
  {
   "cell_type": "code",
   "execution_count": 6,
   "id": "6a2dd3fe",
   "metadata": {},
   "outputs": [
    {
     "data": {
      "text/plain": [
       "origin                   int64\n",
       "cylinders                int64\n",
       "displacement           float64\n",
       "horsepower              object\n",
       "weight                   int64\n",
       "acceleration           float64\n",
       "year                     int64\n",
       "name                    object\n",
       "Kilometer_per_liter    float64\n",
       "dtype: object"
      ]
     },
     "execution_count": 6,
     "metadata": {},
     "output_type": "execute_result"
    }
   ],
   "source": [
    "df.dtypes"
   ]
  },
  {
   "cell_type": "code",
   "execution_count": 7,
   "id": "7eb5d54c",
   "metadata": {},
   "outputs": [
    {
     "data": {
      "text/plain": [
       "array(['130', '165', '150', '140', '198', '220', '215', '225', '190',\n",
       "       '170', '160', '95', '97', '85', '88', '46', '87', '90', '113',\n",
       "       '200', '210', '193', '?', '100', '105', '175', '153', '180', '110',\n",
       "       '72', '86', '70', '76', '65', '69', '60', '80', '54', '208', '155',\n",
       "       '112', '92', '145', '137', '158', '167', '94', '107', '230', '49',\n",
       "       '75', '91', '122', '67', '83', '78', '52', '61', '93', '148',\n",
       "       '129', '96', '71', '98', '115', '53', '81', '79', '120', '152',\n",
       "       '102', '108', '68', '58', '149', '89', '63', '48', '66', '139',\n",
       "       '103', '125', '133', '138', '135', '142', '77', '62', '132', '84',\n",
       "       '64', '74', '116', '82'], dtype=object)"
      ]
     },
     "execution_count": 7,
     "metadata": {},
     "output_type": "execute_result"
    }
   ],
   "source": [
    "df['horsepower'].unique()"
   ]
  },
  {
   "cell_type": "code",
   "execution_count": 8,
   "id": "b143cac9",
   "metadata": {},
   "outputs": [],
   "source": [
    "df = df[~(df['horsepower']=='?')]"
   ]
  },
  {
   "cell_type": "code",
   "execution_count": 9,
   "id": "c6f703b8",
   "metadata": {},
   "outputs": [
    {
     "data": {
      "text/plain": [
       "(392, 9)"
      ]
     },
     "execution_count": 9,
     "metadata": {},
     "output_type": "execute_result"
    }
   ],
   "source": [
    "df.shape"
   ]
  },
  {
   "cell_type": "code",
   "execution_count": 10,
   "id": "67b121d4",
   "metadata": {},
   "outputs": [],
   "source": [
    "df['horsepower'] = df['horsepower'].astype('float')"
   ]
  },
  {
   "cell_type": "code",
   "execution_count": 11,
   "id": "c939056b",
   "metadata": {},
   "outputs": [],
   "source": [
    "df['origin'] = df['origin'].astype('object')"
   ]
  },
  {
   "cell_type": "code",
   "execution_count": 12,
   "id": "1005936a",
   "metadata": {},
   "outputs": [
    {
     "data": {
      "text/plain": [
       "origin                  object\n",
       "cylinders                int64\n",
       "displacement           float64\n",
       "horsepower             float64\n",
       "weight                   int64\n",
       "acceleration           float64\n",
       "year                     int64\n",
       "name                    object\n",
       "Kilometer_per_liter    float64\n",
       "dtype: object"
      ]
     },
     "execution_count": 12,
     "metadata": {},
     "output_type": "execute_result"
    }
   ],
   "source": [
    "df.dtypes"
   ]
  },
  {
   "cell_type": "code",
   "execution_count": 13,
   "id": "b2113238",
   "metadata": {},
   "outputs": [
    {
     "data": {
      "text/html": [
       "<div>\n",
       "<style scoped>\n",
       "    .dataframe tbody tr th:only-of-type {\n",
       "        vertical-align: middle;\n",
       "    }\n",
       "\n",
       "    .dataframe tbody tr th {\n",
       "        vertical-align: top;\n",
       "    }\n",
       "\n",
       "    .dataframe thead th {\n",
       "        text-align: right;\n",
       "    }\n",
       "</style>\n",
       "<table border=\"1\" class=\"dataframe\">\n",
       "  <thead>\n",
       "    <tr style=\"text-align: right;\">\n",
       "      <th></th>\n",
       "      <th>origin</th>\n",
       "      <th>cylinders</th>\n",
       "      <th>displacement</th>\n",
       "      <th>horsepower</th>\n",
       "      <th>weight</th>\n",
       "      <th>acceleration</th>\n",
       "      <th>year</th>\n",
       "      <th>Kilometer_per_liter</th>\n",
       "      <th>car_model</th>\n",
       "      <th>car_name</th>\n",
       "    </tr>\n",
       "  </thead>\n",
       "  <tbody>\n",
       "    <tr>\n",
       "      <th>0</th>\n",
       "      <td>1</td>\n",
       "      <td>8</td>\n",
       "      <td>307.0</td>\n",
       "      <td>130.0</td>\n",
       "      <td>3504</td>\n",
       "      <td>12.0</td>\n",
       "      <td>1970</td>\n",
       "      <td>7.652587</td>\n",
       "      <td>chevrolet</td>\n",
       "      <td>chevelle malibu</td>\n",
       "    </tr>\n",
       "    <tr>\n",
       "      <th>1</th>\n",
       "      <td>1</td>\n",
       "      <td>8</td>\n",
       "      <td>350.0</td>\n",
       "      <td>165.0</td>\n",
       "      <td>3693</td>\n",
       "      <td>11.5</td>\n",
       "      <td>1970</td>\n",
       "      <td>6.377156</td>\n",
       "      <td>buick</td>\n",
       "      <td>skylark 320</td>\n",
       "    </tr>\n",
       "    <tr>\n",
       "      <th>2</th>\n",
       "      <td>1</td>\n",
       "      <td>8</td>\n",
       "      <td>318.0</td>\n",
       "      <td>150.0</td>\n",
       "      <td>3436</td>\n",
       "      <td>11.0</td>\n",
       "      <td>1970</td>\n",
       "      <td>7.652587</td>\n",
       "      <td>plymouth</td>\n",
       "      <td>satellite</td>\n",
       "    </tr>\n",
       "    <tr>\n",
       "      <th>3</th>\n",
       "      <td>1</td>\n",
       "      <td>8</td>\n",
       "      <td>304.0</td>\n",
       "      <td>150.0</td>\n",
       "      <td>3433</td>\n",
       "      <td>12.0</td>\n",
       "      <td>1970</td>\n",
       "      <td>6.802299</td>\n",
       "      <td>amc</td>\n",
       "      <td>rebel sst</td>\n",
       "    </tr>\n",
       "    <tr>\n",
       "      <th>4</th>\n",
       "      <td>1</td>\n",
       "      <td>8</td>\n",
       "      <td>302.0</td>\n",
       "      <td>140.0</td>\n",
       "      <td>3449</td>\n",
       "      <td>10.5</td>\n",
       "      <td>1970</td>\n",
       "      <td>7.227443</td>\n",
       "      <td>ford</td>\n",
       "      <td>torino</td>\n",
       "    </tr>\n",
       "  </tbody>\n",
       "</table>\n",
       "</div>"
      ],
      "text/plain": [
       "  origin  cylinders  displacement  horsepower  weight  acceleration  year  \\\n",
       "0      1          8         307.0       130.0    3504          12.0  1970   \n",
       "1      1          8         350.0       165.0    3693          11.5  1970   \n",
       "2      1          8         318.0       150.0    3436          11.0  1970   \n",
       "3      1          8         304.0       150.0    3433          12.0  1970   \n",
       "4      1          8         302.0       140.0    3449          10.5  1970   \n",
       "\n",
       "   Kilometer_per_liter  car_model         car_name  \n",
       "0             7.652587  chevrolet  chevelle malibu  \n",
       "1             6.377156      buick      skylark 320  \n",
       "2             7.652587   plymouth        satellite  \n",
       "3             6.802299        amc        rebel sst  \n",
       "4             7.227443       ford           torino  "
      ]
     },
     "execution_count": 13,
     "metadata": {},
     "output_type": "execute_result"
    }
   ],
   "source": [
    "# splitting the name in car name and model\n",
    "\n",
    "df[['car_model','car_name']] = df['name'].str.split(\" \",n=1,expand=True)\n",
    "df.drop('name',axis=1,inplace=True)\n",
    "df.head()"
   ]
  },
  {
   "cell_type": "code",
   "execution_count": 14,
   "id": "a1f2f03c",
   "metadata": {},
   "outputs": [
    {
     "name": "stdout",
     "output_type": "stream",
     "text": [
      "['amc', 'audi', 'bmw', 'buick', 'cadillac', 'capri', 'chevroelt', 'chevrolet', 'chevy', 'chrysler', 'datsun', 'dodge', 'fiat', 'ford', 'hi', 'honda', 'maxda', 'mazda', 'mercedes', 'mercedes-benz', 'mercury', 'nissan', 'oldsmobile', 'opel', 'peugeot', 'plymouth', 'pontiac', 'renault', 'saab', 'subaru', 'toyota', 'toyouta', 'triumph', 'vokswagen', 'volkswagen', 'volvo', 'vw']\n"
     ]
    }
   ],
   "source": [
    "print(sorted(df['car_model'].unique()))"
   ]
  },
  {
   "cell_type": "code",
   "execution_count": 15,
   "id": "51ff9db5",
   "metadata": {},
   "outputs": [],
   "source": [
    "df['car_model'] = df['car_model'].replace(['chevroelt','chevy'],'chevrolet')\n",
    "df['car_model'] = df['car_model'].replace(['toyouta'],'toyota')\n",
    "df['car_model'] = df['car_model'].replace(['maxda'],'mazda')\n",
    "df['car_model'] = df['car_model'].replace(['mercedes-benz'],'mercedes')\n",
    "df['car_model'] = df['car_model'].replace(['vw','vokswagen'],'volkswagen')"
   ]
  },
  {
   "cell_type": "code",
   "execution_count": 16,
   "id": "a2fd790c",
   "metadata": {},
   "outputs": [
    {
     "name": "stdout",
     "output_type": "stream",
     "text": [
      "['amc', 'audi', 'bmw', 'buick', 'cadillac', 'capri', 'chevrolet', 'chrysler', 'datsun', 'dodge', 'fiat', 'ford', 'hi', 'honda', 'mazda', 'mercedes', 'mercury', 'nissan', 'oldsmobile', 'opel', 'peugeot', 'plymouth', 'pontiac', 'renault', 'saab', 'subaru', 'toyota', 'triumph', 'volkswagen', 'volvo']\n"
     ]
    }
   ],
   "source": [
    "print(sorted(df['car_model'].unique()))"
   ]
  },
  {
   "cell_type": "code",
   "execution_count": 17,
   "id": "41455077",
   "metadata": {},
   "outputs": [
    {
     "data": {
      "text/plain": [
       "0    chevelle malibu\n",
       "1        skylark 320\n",
       "2          satellite\n",
       "3          rebel sst\n",
       "4             torino\n",
       "5        galaxie 500\n",
       "6             impala\n",
       "7           fury iii\n",
       "8           catalina\n",
       "9     ambassador dpl\n",
       "Name: car_name, dtype: object"
      ]
     },
     "execution_count": 17,
     "metadata": {},
     "output_type": "execute_result"
    }
   ],
   "source": [
    "df.car_name.head(10)"
   ]
  },
  {
   "cell_type": "code",
   "execution_count": 18,
   "id": "356951c1",
   "metadata": {},
   "outputs": [],
   "source": [
    "import re\n",
    "def lettnum(x):\n",
    "    return re.sub('[^A-Za-z0-9]+','',(str(x)))\n",
    "\n",
    "df['car_name'] = df['car_name'].apply(lambda x: lettnum(x))"
   ]
  },
  {
   "cell_type": "code",
   "execution_count": 19,
   "id": "8857aa6b",
   "metadata": {},
   "outputs": [
    {
     "data": {
      "text/plain": [
       "293"
      ]
     },
     "execution_count": 19,
     "metadata": {},
     "output_type": "execute_result"
    }
   ],
   "source": [
    "len(df['car_name'].unique())"
   ]
  },
  {
   "cell_type": "markdown",
   "id": "59f7147e",
   "metadata": {},
   "source": [
    "# Statistical Summary"
   ]
  },
  {
   "cell_type": "code",
   "execution_count": 20,
   "id": "03c7f0f2",
   "metadata": {},
   "outputs": [
    {
     "data": {
      "text/html": [
       "<div>\n",
       "<style scoped>\n",
       "    .dataframe tbody tr th:only-of-type {\n",
       "        vertical-align: middle;\n",
       "    }\n",
       "\n",
       "    .dataframe tbody tr th {\n",
       "        vertical-align: top;\n",
       "    }\n",
       "\n",
       "    .dataframe thead th {\n",
       "        text-align: right;\n",
       "    }\n",
       "</style>\n",
       "<table border=\"1\" class=\"dataframe\">\n",
       "  <thead>\n",
       "    <tr style=\"text-align: right;\">\n",
       "      <th></th>\n",
       "      <th>cylinders</th>\n",
       "      <th>displacement</th>\n",
       "      <th>horsepower</th>\n",
       "      <th>weight</th>\n",
       "      <th>acceleration</th>\n",
       "      <th>year</th>\n",
       "      <th>Kilometer_per_liter</th>\n",
       "    </tr>\n",
       "  </thead>\n",
       "  <tbody>\n",
       "    <tr>\n",
       "      <th>count</th>\n",
       "      <td>392.000000</td>\n",
       "      <td>392.000000</td>\n",
       "      <td>392.000000</td>\n",
       "      <td>392.000000</td>\n",
       "      <td>392.000000</td>\n",
       "      <td>392.000000</td>\n",
       "      <td>392.000000</td>\n",
       "    </tr>\n",
       "    <tr>\n",
       "      <th>mean</th>\n",
       "      <td>5.471939</td>\n",
       "      <td>194.411990</td>\n",
       "      <td>104.469388</td>\n",
       "      <td>2977.584184</td>\n",
       "      <td>15.541327</td>\n",
       "      <td>1975.979592</td>\n",
       "      <td>9.967885</td>\n",
       "    </tr>\n",
       "    <tr>\n",
       "      <th>std</th>\n",
       "      <td>1.705783</td>\n",
       "      <td>104.644004</td>\n",
       "      <td>38.491160</td>\n",
       "      <td>849.402560</td>\n",
       "      <td>2.758864</td>\n",
       "      <td>3.683737</td>\n",
       "      <td>3.318250</td>\n",
       "    </tr>\n",
       "    <tr>\n",
       "      <th>min</th>\n",
       "      <td>3.000000</td>\n",
       "      <td>68.000000</td>\n",
       "      <td>46.000000</td>\n",
       "      <td>1613.000000</td>\n",
       "      <td>8.000000</td>\n",
       "      <td>1970.000000</td>\n",
       "      <td>3.826293</td>\n",
       "    </tr>\n",
       "    <tr>\n",
       "      <th>25%</th>\n",
       "      <td>4.000000</td>\n",
       "      <td>105.000000</td>\n",
       "      <td>75.000000</td>\n",
       "      <td>2225.250000</td>\n",
       "      <td>13.775000</td>\n",
       "      <td>1973.000000</td>\n",
       "      <td>7.227443</td>\n",
       "    </tr>\n",
       "    <tr>\n",
       "      <th>50%</th>\n",
       "      <td>4.000000</td>\n",
       "      <td>151.000000</td>\n",
       "      <td>93.500000</td>\n",
       "      <td>2803.500000</td>\n",
       "      <td>15.500000</td>\n",
       "      <td>1976.000000</td>\n",
       "      <td>9.672019</td>\n",
       "    </tr>\n",
       "    <tr>\n",
       "      <th>75%</th>\n",
       "      <td>8.000000</td>\n",
       "      <td>275.750000</td>\n",
       "      <td>126.000000</td>\n",
       "      <td>3614.750000</td>\n",
       "      <td>17.025000</td>\n",
       "      <td>1979.000000</td>\n",
       "      <td>12.329168</td>\n",
       "    </tr>\n",
       "    <tr>\n",
       "      <th>max</th>\n",
       "      <td>8.000000</td>\n",
       "      <td>455.000000</td>\n",
       "      <td>230.000000</td>\n",
       "      <td>5140.000000</td>\n",
       "      <td>24.800000</td>\n",
       "      <td>1982.000000</td>\n",
       "      <td>19.811697</td>\n",
       "    </tr>\n",
       "  </tbody>\n",
       "</table>\n",
       "</div>"
      ],
      "text/plain": [
       "        cylinders  displacement  horsepower       weight  acceleration  \\\n",
       "count  392.000000    392.000000  392.000000   392.000000    392.000000   \n",
       "mean     5.471939    194.411990  104.469388  2977.584184     15.541327   \n",
       "std      1.705783    104.644004   38.491160   849.402560      2.758864   \n",
       "min      3.000000     68.000000   46.000000  1613.000000      8.000000   \n",
       "25%      4.000000    105.000000   75.000000  2225.250000     13.775000   \n",
       "50%      4.000000    151.000000   93.500000  2803.500000     15.500000   \n",
       "75%      8.000000    275.750000  126.000000  3614.750000     17.025000   \n",
       "max      8.000000    455.000000  230.000000  5140.000000     24.800000   \n",
       "\n",
       "              year  Kilometer_per_liter  \n",
       "count   392.000000           392.000000  \n",
       "mean   1975.979592             9.967885  \n",
       "std       3.683737             3.318250  \n",
       "min    1970.000000             3.826293  \n",
       "25%    1973.000000             7.227443  \n",
       "50%    1976.000000             9.672019  \n",
       "75%    1979.000000            12.329168  \n",
       "max    1982.000000            19.811697  "
      ]
     },
     "execution_count": 20,
     "metadata": {},
     "output_type": "execute_result"
    }
   ],
   "source": [
    "df.describe()"
   ]
  },
  {
   "cell_type": "code",
   "execution_count": 21,
   "id": "2953b2b7",
   "metadata": {},
   "outputs": [
    {
     "data": {
      "text/html": [
       "<div>\n",
       "<style scoped>\n",
       "    .dataframe tbody tr th:only-of-type {\n",
       "        vertical-align: middle;\n",
       "    }\n",
       "\n",
       "    .dataframe tbody tr th {\n",
       "        vertical-align: top;\n",
       "    }\n",
       "\n",
       "    .dataframe thead th {\n",
       "        text-align: right;\n",
       "    }\n",
       "</style>\n",
       "<table border=\"1\" class=\"dataframe\">\n",
       "  <thead>\n",
       "    <tr style=\"text-align: right;\">\n",
       "      <th></th>\n",
       "      <th>origin</th>\n",
       "      <th>car_model</th>\n",
       "      <th>car_name</th>\n",
       "    </tr>\n",
       "  </thead>\n",
       "  <tbody>\n",
       "    <tr>\n",
       "      <th>count</th>\n",
       "      <td>392</td>\n",
       "      <td>392</td>\n",
       "      <td>392</td>\n",
       "    </tr>\n",
       "    <tr>\n",
       "      <th>unique</th>\n",
       "      <td>3</td>\n",
       "      <td>30</td>\n",
       "      <td>293</td>\n",
       "    </tr>\n",
       "    <tr>\n",
       "      <th>top</th>\n",
       "      <td>1</td>\n",
       "      <td>ford</td>\n",
       "      <td>rabbit</td>\n",
       "    </tr>\n",
       "    <tr>\n",
       "      <th>freq</th>\n",
       "      <td>245</td>\n",
       "      <td>48</td>\n",
       "      <td>5</td>\n",
       "    </tr>\n",
       "  </tbody>\n",
       "</table>\n",
       "</div>"
      ],
      "text/plain": [
       "        origin car_model car_name\n",
       "count      392       392      392\n",
       "unique       3        30      293\n",
       "top          1      ford   rabbit\n",
       "freq       245        48        5"
      ]
     },
     "execution_count": 21,
     "metadata": {},
     "output_type": "execute_result"
    }
   ],
   "source": [
    "df.describe(include='object')"
   ]
  },
  {
   "cell_type": "markdown",
   "id": "42175401",
   "metadata": {},
   "source": [
    "# EDA"
   ]
  },
  {
   "cell_type": "code",
   "execution_count": 22,
   "id": "7c174fdc",
   "metadata": {},
   "outputs": [
    {
     "data": {
      "text/plain": [
       "<Figure size 1296x1296 with 0 Axes>"
      ]
     },
     "metadata": {},
     "output_type": "display_data"
    },
    {
     "data": {
      "image/png": "[encoded data removed]",
      "text/plain": [
       "<Figure size 1296x1296 with 9 Axes>"
      ]
     },
     "metadata": {
      "needs_background": "light"
     },
     "output_type": "display_data"
    }
   ],
   "source": [
    "plt.figure(figsize=(18,18))\n",
    "df.hist(figsize=(18,18));"
   ]
  },
  {
   "cell_type": "markdown",
   "id": "bdf029f8",
   "metadata": {},
   "source": [
    "### Analysing all Features Specifically(Univariate Analysis)"
   ]
  },
  {
   "cell_type": "code",
   "execution_count": 23,
   "id": "89ab699b",
   "metadata": {},
   "outputs": [
    {
     "data": {
      "text/plain": [
       "count    392.000000\n",
       "mean       9.967885\n",
       "std        3.318250\n",
       "min        3.826293\n",
       "25%        7.227443\n",
       "50%        9.672019\n",
       "75%       12.329168\n",
       "max       19.811697\n",
       "Name: Kilometer_per_liter, dtype: float64"
      ]
     },
     "execution_count": 23,
     "metadata": {},
     "output_type": "execute_result"
    }
   ],
   "source": [
    "#1.Kilometer per litre\n",
    "df.Kilometer_per_liter.describe()"
   ]
  },
  {
   "cell_type": "markdown",
   "id": "40380804",
   "metadata": {},
   "source": [
    "Max of Mileage of car present in dataset is 19.81 and Minimum is 3.82"
   ]
  },
  {
   "cell_type": "code",
   "execution_count": 24,
   "id": "9ca11a5d",
   "metadata": {},
   "outputs": [
    {
     "data": {
      "text/plain": [
       "<AxesSubplot:xlabel='Kilometer_per_liter', ylabel='Density'>"
      ]
     },
     "execution_count": 24,
     "metadata": {},
     "output_type": "execute_result"
    },
    {
     "data": {
      "image/png": "[encoded data removed]",
      "text/plain": [
       "<Figure size 432x288 with 1 Axes>"
      ]
     },
     "metadata": {
      "needs_background": "light"
     },
     "output_type": "display_data"
    }
   ],
   "source": [
    "sns.distplot(df['Kilometer_per_liter'])"
   ]
  },
  {
   "cell_type": "code",
   "execution_count": 25,
   "id": "21d2c8a0",
   "metadata": {},
   "outputs": [
    {
     "data": {
      "text/plain": [
       "0.45534138282810327"
      ]
     },
     "execution_count": 25,
     "metadata": {},
     "output_type": "execute_result"
    }
   ],
   "source": [
    "# Checking skewnewss of target var\n",
    "\n",
    "from scipy.stats import skew\n",
    "skew(df['Kilometer_per_liter'])"
   ]
  },
  {
   "cell_type": "code",
   "execution_count": 26,
   "id": "f45bcdf2",
   "metadata": {},
   "outputs": [],
   "source": [
    "df1 = df.copy()"
   ]
  },
  {
   "cell_type": "code",
   "execution_count": 27,
   "id": "26133d04",
   "metadata": {},
   "outputs": [
    {
     "data": {
      "text/html": [
       "<div>\n",
       "<style scoped>\n",
       "    .dataframe tbody tr th:only-of-type {\n",
       "        vertical-align: middle;\n",
       "    }\n",
       "\n",
       "    .dataframe tbody tr th {\n",
       "        vertical-align: top;\n",
       "    }\n",
       "\n",
       "    .dataframe thead th {\n",
       "        text-align: right;\n",
       "    }\n",
       "</style>\n",
       "<table border=\"1\" class=\"dataframe\">\n",
       "  <thead>\n",
       "    <tr style=\"text-align: right;\">\n",
       "      <th></th>\n",
       "      <th>origin</th>\n",
       "      <th>cylinders</th>\n",
       "      <th>displacement</th>\n",
       "      <th>horsepower</th>\n",
       "      <th>weight</th>\n",
       "      <th>acceleration</th>\n",
       "      <th>year</th>\n",
       "      <th>Kilometer_per_liter</th>\n",
       "      <th>car_model</th>\n",
       "      <th>car_name</th>\n",
       "      <th>log_mileage</th>\n",
       "    </tr>\n",
       "  </thead>\n",
       "  <tbody>\n",
       "    <tr>\n",
       "      <th>0</th>\n",
       "      <td>1</td>\n",
       "      <td>8</td>\n",
       "      <td>307.0</td>\n",
       "      <td>130.0</td>\n",
       "      <td>3504</td>\n",
       "      <td>12.0</td>\n",
       "      <td>1970</td>\n",
       "      <td>7.652587</td>\n",
       "      <td>chevrolet</td>\n",
       "      <td>chevellemalibu</td>\n",
       "      <td>2.035044</td>\n",
       "    </tr>\n",
       "    <tr>\n",
       "      <th>1</th>\n",
       "      <td>1</td>\n",
       "      <td>8</td>\n",
       "      <td>350.0</td>\n",
       "      <td>165.0</td>\n",
       "      <td>3693</td>\n",
       "      <td>11.5</td>\n",
       "      <td>1970</td>\n",
       "      <td>6.377156</td>\n",
       "      <td>buick</td>\n",
       "      <td>skylark320</td>\n",
       "      <td>1.852722</td>\n",
       "    </tr>\n",
       "    <tr>\n",
       "      <th>2</th>\n",
       "      <td>1</td>\n",
       "      <td>8</td>\n",
       "      <td>318.0</td>\n",
       "      <td>150.0</td>\n",
       "      <td>3436</td>\n",
       "      <td>11.0</td>\n",
       "      <td>1970</td>\n",
       "      <td>7.652587</td>\n",
       "      <td>plymouth</td>\n",
       "      <td>satellite</td>\n",
       "      <td>2.035044</td>\n",
       "    </tr>\n",
       "    <tr>\n",
       "      <th>3</th>\n",
       "      <td>1</td>\n",
       "      <td>8</td>\n",
       "      <td>304.0</td>\n",
       "      <td>150.0</td>\n",
       "      <td>3433</td>\n",
       "      <td>12.0</td>\n",
       "      <td>1970</td>\n",
       "      <td>6.802299</td>\n",
       "      <td>amc</td>\n",
       "      <td>rebelsst</td>\n",
       "      <td>1.917261</td>\n",
       "    </tr>\n",
       "    <tr>\n",
       "      <th>4</th>\n",
       "      <td>1</td>\n",
       "      <td>8</td>\n",
       "      <td>302.0</td>\n",
       "      <td>140.0</td>\n",
       "      <td>3449</td>\n",
       "      <td>10.5</td>\n",
       "      <td>1970</td>\n",
       "      <td>7.227443</td>\n",
       "      <td>ford</td>\n",
       "      <td>torino</td>\n",
       "      <td>1.977885</td>\n",
       "    </tr>\n",
       "  </tbody>\n",
       "</table>\n",
       "</div>"
      ],
      "text/plain": [
       "  origin  cylinders  displacement  horsepower  weight  acceleration  year  \\\n",
       "0      1          8         307.0       130.0    3504          12.0  1970   \n",
       "1      1          8         350.0       165.0    3693          11.5  1970   \n",
       "2      1          8         318.0       150.0    3436          11.0  1970   \n",
       "3      1          8         304.0       150.0    3433          12.0  1970   \n",
       "4      1          8         302.0       140.0    3449          10.5  1970   \n",
       "\n",
       "   Kilometer_per_liter  car_model        car_name  log_mileage  \n",
       "0             7.652587  chevrolet  chevellemalibu     2.035044  \n",
       "1             6.377156      buick      skylark320     1.852722  \n",
       "2             7.652587   plymouth       satellite     2.035044  \n",
       "3             6.802299        amc        rebelsst     1.917261  \n",
       "4             7.227443       ford          torino     1.977885  "
      ]
     },
     "execution_count": 27,
     "metadata": {},
     "output_type": "execute_result"
    }
   ],
   "source": [
    "# Since the Target Var is not normally distributed , let's try to remove the skewness from var\n",
    "\n",
    "df1['log_mileage'] = np.log(df1['Kilometer_per_liter'])\n",
    "df1.head()"
   ]
  },
  {
   "cell_type": "code",
   "execution_count": 28,
   "id": "39e507e1",
   "metadata": {},
   "outputs": [
    {
     "data": {
      "text/plain": [
       "<AxesSubplot:xlabel='log_mileage', ylabel='Density'>"
      ]
     },
     "execution_count": 28,
     "metadata": {},
     "output_type": "execute_result"
    },
    {
     "data": {
      "image/png": "[encoded data removed]",
      "text/plain": [
       "<Figure size 432x288 with 1 Axes>"
      ]
     },
     "metadata": {
      "needs_background": "light"
     },
     "output_type": "display_data"
    }
   ],
   "source": [
    "sns.distplot(df1['log_mileage'])"
   ]
  },
  {
   "cell_type": "code",
   "execution_count": 29,
   "id": "7af33409",
   "metadata": {},
   "outputs": [
    {
     "data": {
      "text/plain": [
       "-0.13087844685472316"
      ]
     },
     "execution_count": 29,
     "metadata": {},
     "output_type": "execute_result"
    }
   ],
   "source": [
    "skew(df1['log_mileage'])"
   ]
  },
  {
   "cell_type": "code",
   "execution_count": 30,
   "id": "62e364ac",
   "metadata": {},
   "outputs": [
    {
     "data": {
      "text/plain": [
       "<AxesSubplot:xlabel='displacement', ylabel='Density'>"
      ]
     },
     "execution_count": 30,
     "metadata": {},
     "output_type": "execute_result"
    },
    {
     "data": {
      "image/png": "[encoded data removed]",
      "text/plain": [
       "<Figure size 432x288 with 1 Axes>"
      ]
     },
     "metadata": {
      "needs_background": "light"
     },
     "output_type": "display_data"
    }
   ],
   "source": [
    "#2. Displacement\n",
    "sns.distplot(df1['displacement'])"
   ]
  },
  {
   "cell_type": "code",
   "execution_count": 31,
   "id": "65d8d28e",
   "metadata": {},
   "outputs": [
    {
     "data": {
      "text/plain": [
       "<AxesSubplot:xlabel='year', ylabel='count'>"
      ]
     },
     "execution_count": 31,
     "metadata": {},
     "output_type": "execute_result"
    },
    {
     "data": {
      "image/png": "[encoded data removed]",
      "text/plain": [
       "<Figure size 432x288 with 1 Axes>"
      ]
     },
     "metadata": {
      "needs_background": "light"
     },
     "output_type": "display_data"
    }
   ],
   "source": [
    "# 3 year\n",
    "sns.countplot(df1['year'])"
   ]
  },
  {
   "cell_type": "markdown",
   "id": "9a2b3b34",
   "metadata": {},
   "source": [
    "Most cars manufactured in 1973"
   ]
  },
  {
   "cell_type": "code",
   "execution_count": 32,
   "id": "aeb69429",
   "metadata": {},
   "outputs": [
    {
     "data": {
      "text/plain": [
       "<AxesSubplot:xlabel='origin', ylabel='count'>"
      ]
     },
     "execution_count": 32,
     "metadata": {},
     "output_type": "execute_result"
    },
    {
     "data": {
      "image/png": "[encoded data removed]",
      "text/plain": [
       "<Figure size 432x288 with 1 Axes>"
      ]
     },
     "metadata": {
      "needs_background": "light"
     },
     "output_type": "display_data"
    }
   ],
   "source": [
    "# 4.origin\n",
    "sns.countplot(df1['origin'])"
   ]
  },
  {
   "cell_type": "code",
   "execution_count": 33,
   "id": "36cc366b",
   "metadata": {},
   "outputs": [
    {
     "data": {
      "text/plain": [
       "<AxesSubplot:xlabel='horsepower', ylabel='Density'>"
      ]
     },
     "execution_count": 33,
     "metadata": {},
     "output_type": "execute_result"
    },
    {
     "data": {
      "image/png": "[encoded data removed]",
      "text/plain": [
       "<Figure size 432x288 with 1 Axes>"
      ]
     },
     "metadata": {
      "needs_background": "light"
     },
     "output_type": "display_data"
    }
   ],
   "source": [
    "#5 horsepower\n",
    "\n",
    "sns.distplot(df1['horsepower'])"
   ]
  },
  {
   "cell_type": "markdown",
   "id": "bd67614c",
   "metadata": {},
   "source": [
    "Most Vehicles have HP of 70-100"
   ]
  },
  {
   "cell_type": "code",
   "execution_count": 34,
   "id": "97a87331",
   "metadata": {},
   "outputs": [
    {
     "data": {
      "text/plain": [
       "<AxesSubplot:xlabel='weight', ylabel='Density'>"
      ]
     },
     "execution_count": 34,
     "metadata": {},
     "output_type": "execute_result"
    },
    {
     "data": {
      "image/png": "[encoded data removed]",
      "text/plain": [
       "<Figure size 432x288 with 1 Axes>"
      ]
     },
     "metadata": {
      "needs_background": "light"
     },
     "output_type": "display_data"
    }
   ],
   "source": [
    "#6 Weight\n",
    "sns.distplot(df1['weight'],bins=50)"
   ]
  },
  {
   "cell_type": "markdown",
   "id": "cdf807f1",
   "metadata": {},
   "source": [
    "Most Cars have Weight of 2000-2500"
   ]
  },
  {
   "cell_type": "code",
   "execution_count": 35,
   "id": "ed9ad169",
   "metadata": {},
   "outputs": [
    {
     "data": {
      "text/plain": [
       "<AxesSubplot:xlabel='cylinders', ylabel='Density'>"
      ]
     },
     "execution_count": 35,
     "metadata": {},
     "output_type": "execute_result"
    },
    {
     "data": {
      "image/png": "[encoded data removed]",
      "text/plain": [
       "<Figure size 432x288 with 1 Axes>"
      ]
     },
     "metadata": {
      "needs_background": "light"
     },
     "output_type": "display_data"
    }
   ],
   "source": [
    "#7 cylinders\n",
    "sns.distplot(df1['cylinders'])"
   ]
  },
  {
   "cell_type": "markdown",
   "id": "5273a36d",
   "metadata": {},
   "source": [
    "Most cars have 4-5 Cylinders"
   ]
  },
  {
   "cell_type": "code",
   "execution_count": 36,
   "id": "a47e9190",
   "metadata": {},
   "outputs": [
    {
     "data": {
      "text/plain": [
       "ford          48\n",
       "chevrolet     47\n",
       "plymouth      31\n",
       "dodge         28\n",
       "amc           27\n",
       "toyota        26\n",
       "datsun        23\n",
       "volkswagen    22\n",
       "buick         17\n",
       "pontiac       16\n",
       "Name: car_model, dtype: int64"
      ]
     },
     "execution_count": 36,
     "metadata": {},
     "output_type": "execute_result"
    }
   ],
   "source": [
    "# 8 Top 10 car_model\n",
    "carmodel = df1.car_model.value_counts()[:10]\n",
    "carmodel"
   ]
  },
  {
   "cell_type": "code",
   "execution_count": 37,
   "id": "9e01c243",
   "metadata": {},
   "outputs": [
    {
     "data": {
      "text/plain": [
       "30"
      ]
     },
     "execution_count": 37,
     "metadata": {},
     "output_type": "execute_result"
    }
   ],
   "source": [
    "df1.car_model.nunique()"
   ]
  },
  {
   "cell_type": "markdown",
   "id": "9ee3bfc5",
   "metadata": {},
   "source": [
    "There are total 30 different Car Companies are present in dataset"
   ]
  },
  {
   "cell_type": "code",
   "execution_count": 38,
   "id": "b772f425",
   "metadata": {},
   "outputs": [
    {
     "data": {
      "image/png": "[encoded data removed]",
      "text/plain": [
       "<Figure size 1080x432 with 1 Axes>"
      ]
     },
     "metadata": {
      "needs_background": "light"
     },
     "output_type": "display_data"
    }
   ],
   "source": [
    "carmodel=list(df1.car_model.value_counts()[:10].index)\n",
    "carmodel_count = list(df1.car_model.value_counts()[:10])\n",
    "\n",
    "plt.subplots(figsize=(15,6))\n",
    "sns.barplot(x=carmodel, y=carmodel_count, palette= 'OrRd_r',edgecolor=sns.color_palette('dark',10))\n",
    "plt.title('Car Model Count')\n",
    "plt.xlabel(\"Car Model\",fontsize=20)\n",
    "plt.ylabel(\"Model Count\",fontsize=20)\n",
    "plt.show()"
   ]
  },
  {
   "cell_type": "markdown",
   "id": "fc4de2d4",
   "metadata": {},
   "source": [
    "Most cars of Ford Model"
   ]
  },
  {
   "cell_type": "code",
   "execution_count": 39,
   "id": "906cdece",
   "metadata": {},
   "outputs": [
    {
     "data": {
      "image/png": "[encoded data removed]",
      "text/plain": [
       "<Figure size 1080x432 with 1 Axes>"
      ]
     },
     "metadata": {
      "needs_background": "light"
     },
     "output_type": "display_data"
    }
   ],
   "source": [
    "# 9 car name\n",
    "carname=list(df1.car_name.value_counts()[:10].index)\n",
    "car_count = list(df1.car_name.value_counts()[:10])\n",
    "\n",
    "plt.subplots(figsize=(15,6))\n",
    "sns.barplot(x=carname, y=car_count, palette= 'OrRd_r',edgecolor=sns.color_palette('dark',10))\n",
    "plt.title('Car Name Count')\n",
    "plt.xlabel(\"Car Name\",fontsize=20)\n",
    "plt.ylabel(\"Count\",fontsize=20)\n",
    "plt.show()"
   ]
  },
  {
   "cell_type": "markdown",
   "id": "3d94f988",
   "metadata": {},
   "source": [
    "Most cars are of type Rabbit,pinto,corolla and Matador(5)"
   ]
  },
  {
   "cell_type": "code",
   "execution_count": 40,
   "id": "c091575c",
   "metadata": {},
   "outputs": [
    {
     "data": {
      "text/plain": [
       "<AxesSubplot:xlabel='acceleration', ylabel='Density'>"
      ]
     },
     "execution_count": 40,
     "metadata": {},
     "output_type": "execute_result"
    },
    {
     "data": {
      "image/png": "[encoded data removed]",
      "text/plain": [
       "<Figure size 432x288 with 1 Axes>"
      ]
     },
     "metadata": {
      "needs_background": "light"
     },
     "output_type": "display_data"
    }
   ],
   "source": [
    "# 10 acceleration\n",
    "sns.distplot(df1['acceleration'])"
   ]
  },
  {
   "cell_type": "markdown",
   "id": "77505cdc",
   "metadata": {},
   "source": [
    "Most cars have accn between 14-17"
   ]
  },
  {
   "cell_type": "markdown",
   "id": "96bbe506",
   "metadata": {},
   "source": [
    "### Analysing Each Feature with Target Variable(Mileage) (Multi Variate Analysis)"
   ]
  },
  {
   "cell_type": "code",
   "execution_count": 41,
   "id": "d29ea03a",
   "metadata": {},
   "outputs": [
    {
     "data": {
      "text/plain": [
       "<seaborn.axisgrid.JointGrid at 0x235a9116d30>"
      ]
     },
     "execution_count": 41,
     "metadata": {},
     "output_type": "execute_result"
    },
    {
     "data": {
      "image/png": "[encoded data removed]",
      "text/plain": [
       "<Figure size 432x432 with 3 Axes>"
      ]
     },
     "metadata": {
      "needs_background": "light"
     },
     "output_type": "display_data"
    }
   ],
   "source": [
    "# 1.HP Vs Kilometer per liter\n",
    "\n",
    "sns.jointplot(df1['horsepower'],df1['Kilometer_per_liter'],kind='reg',color='teal')"
   ]
  },
  {
   "cell_type": "markdown",
   "id": "1ca4d939",
   "metadata": {},
   "source": [
    "As hp is increasing Mileage is decreasing"
   ]
  },
  {
   "cell_type": "code",
   "execution_count": 42,
   "id": "9b4b7913",
   "metadata": {},
   "outputs": [
    {
     "data": {
      "text/plain": [
       "<seaborn.axisgrid.JointGrid at 0x235a966a310>"
      ]
     },
     "execution_count": 42,
     "metadata": {},
     "output_type": "execute_result"
    },
    {
     "data": {
      "image/png": "[encoded data removed]",
      "text/plain": [
       "<Figure size 432x432 with 3 Axes>"
      ]
     },
     "metadata": {
      "needs_background": "light"
     },
     "output_type": "display_data"
    }
   ],
   "source": [
    "# 2. Weight Vs Kilometer per liter\n",
    "sns.jointplot(df1['weight'],df1['Kilometer_per_liter'],kind='reg',color='teal')"
   ]
  },
  {
   "cell_type": "markdown",
   "id": "277c8437",
   "metadata": {},
   "source": [
    "As Weight of car is increasing Mileage is decreasing"
   ]
  },
  {
   "cell_type": "code",
   "execution_count": 43,
   "id": "afcf2b8f",
   "metadata": {},
   "outputs": [
    {
     "data": {
      "text/plain": [
       "<seaborn.axisgrid.JointGrid at 0x235a87cf1f0>"
      ]
     },
     "execution_count": 43,
     "metadata": {},
     "output_type": "execute_result"
    },
    {
     "data": {
      "image/png": "[encoded data removed]",
      "text/plain": [
       "<Figure size 432x432 with 3 Axes>"
      ]
     },
     "metadata": {
      "needs_background": "light"
     },
     "output_type": "display_data"
    }
   ],
   "source": [
    "# 3. Acceleration Vs Kilometer per liter\n",
    "sns.jointplot(df1['acceleration'],df1['Kilometer_per_liter'],kind='reg',color='teal')"
   ]
  },
  {
   "cell_type": "markdown",
   "id": "83f0f69a",
   "metadata": {},
   "source": [
    "From the plot we can see that Acceleration doesn't have much of a impact on Mileage"
   ]
  },
  {
   "cell_type": "code",
   "execution_count": 44,
   "id": "44b18619",
   "metadata": {},
   "outputs": [
    {
     "data": {
      "text/plain": [
       "<seaborn.axisgrid.JointGrid at 0x235a93398e0>"
      ]
     },
     "execution_count": 44,
     "metadata": {},
     "output_type": "execute_result"
    },
    {
     "data": {
      "image/png": "[encoded data removed]",
      "text/plain": [
       "<Figure size 432x432 with 3 Axes>"
      ]
     },
     "metadata": {
      "needs_background": "light"
     },
     "output_type": "display_data"
    }
   ],
   "source": [
    "# 4. Displacement Vs Kilometer per liter\n",
    "sns.jointplot(df1['displacement'],df1['Kilometer_per_liter'],kind='reg',color='teal')"
   ]
  },
  {
   "cell_type": "markdown",
   "id": "9f299a19",
   "metadata": {},
   "source": [
    "As Displacement of car is increasing Mileage is decreasing"
   ]
  },
  {
   "cell_type": "code",
   "execution_count": 45,
   "id": "094404ea",
   "metadata": {},
   "outputs": [
    {
     "data": {
      "text/plain": [
       "<AxesSubplot:xlabel='cylinders', ylabel='Kilometer_per_liter'>"
      ]
     },
     "execution_count": 45,
     "metadata": {},
     "output_type": "execute_result"
    },
    {
     "data": {
      "image/png": "[encoded data removed]",
      "text/plain": [
       "<Figure size 432x288 with 1 Axes>"
      ]
     },
     "metadata": {
      "needs_background": "light"
     },
     "output_type": "display_data"
    }
   ],
   "source": [
    "# 5. cylinders Vs Kilometer per liter\n",
    "sns.boxplot(df1['cylinders'],df1['Kilometer_per_liter'],palette='husl')"
   ]
  },
  {
   "cell_type": "markdown",
   "id": "323d89c0",
   "metadata": {},
   "source": [
    "Mileage of Car having 4 Cylinders is maximum and 8 is least"
   ]
  },
  {
   "cell_type": "code",
   "execution_count": 103,
   "id": "d63eacf2",
   "metadata": {},
   "outputs": [
    {
     "data": {
      "text/html": [
       "<div>\n",
       "<style scoped>\n",
       "    .dataframe tbody tr th:only-of-type {\n",
       "        vertical-align: middle;\n",
       "    }\n",
       "\n",
       "    .dataframe tbody tr th {\n",
       "        vertical-align: top;\n",
       "    }\n",
       "\n",
       "    .dataframe thead th {\n",
       "        text-align: right;\n",
       "    }\n",
       "</style>\n",
       "<table border=\"1\" class=\"dataframe\">\n",
       "  <thead>\n",
       "    <tr style=\"text-align: right;\">\n",
       "      <th></th>\n",
       "      <th>car_model</th>\n",
       "      <th>car_name</th>\n",
       "      <th>year</th>\n",
       "      <th>cylinders</th>\n",
       "      <th>Kilometer_per_liter</th>\n",
       "      <th>horsepower</th>\n",
       "    </tr>\n",
       "  </thead>\n",
       "  <tbody>\n",
       "    <tr>\n",
       "      <th>322</th>\n",
       "      <td>mazda</td>\n",
       "      <td>glc</td>\n",
       "      <td>1980</td>\n",
       "      <td>4</td>\n",
       "      <td>19.811697</td>\n",
       "      <td>65.0</td>\n",
       "    </tr>\n",
       "    <tr>\n",
       "      <th>329</th>\n",
       "      <td>honda</td>\n",
       "      <td>civic1500gl</td>\n",
       "      <td>1980</td>\n",
       "      <td>4</td>\n",
       "      <td>18.961409</td>\n",
       "      <td>67.0</td>\n",
       "    </tr>\n",
       "    <tr>\n",
       "      <th>325</th>\n",
       "      <td>volkswagen</td>\n",
       "      <td>rabbitcdiesel</td>\n",
       "      <td>1980</td>\n",
       "      <td>4</td>\n",
       "      <td>18.833866</td>\n",
       "      <td>48.0</td>\n",
       "    </tr>\n",
       "    <tr>\n",
       "      <th>394</th>\n",
       "      <td>volkswagen</td>\n",
       "      <td>pickup</td>\n",
       "      <td>1982</td>\n",
       "      <td>4</td>\n",
       "      <td>18.706323</td>\n",
       "      <td>52.0</td>\n",
       "    </tr>\n",
       "    <tr>\n",
       "      <th>326</th>\n",
       "      <td>volkswagen</td>\n",
       "      <td>dasherdiesel</td>\n",
       "      <td>1980</td>\n",
       "      <td>4</td>\n",
       "      <td>18.451237</td>\n",
       "      <td>48.0</td>\n",
       "    </tr>\n",
       "    <tr>\n",
       "      <th>...</th>\n",
       "      <td>...</td>\n",
       "      <td>...</td>\n",
       "      <td>...</td>\n",
       "      <td>...</td>\n",
       "      <td>...</td>\n",
       "      <td>...</td>\n",
       "    </tr>\n",
       "    <tr>\n",
       "      <th>103</th>\n",
       "      <td>chevrolet</td>\n",
       "      <td>impala</td>\n",
       "      <td>1973</td>\n",
       "      <td>8</td>\n",
       "      <td>4.676581</td>\n",
       "      <td>150.0</td>\n",
       "    </tr>\n",
       "    <tr>\n",
       "      <th>27</th>\n",
       "      <td>dodge</td>\n",
       "      <td>d200</td>\n",
       "      <td>1970</td>\n",
       "      <td>8</td>\n",
       "      <td>4.676581</td>\n",
       "      <td>210.0</td>\n",
       "    </tr>\n",
       "    <tr>\n",
       "      <th>26</th>\n",
       "      <td>chevrolet</td>\n",
       "      <td>c20</td>\n",
       "      <td>1970</td>\n",
       "      <td>8</td>\n",
       "      <td>4.251437</td>\n",
       "      <td>200.0</td>\n",
       "    </tr>\n",
       "    <tr>\n",
       "      <th>25</th>\n",
       "      <td>ford</td>\n",
       "      <td>f250</td>\n",
       "      <td>1970</td>\n",
       "      <td>8</td>\n",
       "      <td>4.251437</td>\n",
       "      <td>215.0</td>\n",
       "    </tr>\n",
       "    <tr>\n",
       "      <th>28</th>\n",
       "      <td>hi</td>\n",
       "      <td>1200d</td>\n",
       "      <td>1970</td>\n",
       "      <td>8</td>\n",
       "      <td>3.826293</td>\n",
       "      <td>193.0</td>\n",
       "    </tr>\n",
       "  </tbody>\n",
       "</table>\n",
       "<p>392 rows × 6 columns</p>\n",
       "</div>"
      ],
      "text/plain": [
       "      car_model       car_name  year  cylinders  Kilometer_per_liter  \\\n",
       "322       mazda            glc  1980          4            19.811697   \n",
       "329       honda    civic1500gl  1980          4            18.961409   \n",
       "325  volkswagen  rabbitcdiesel  1980          4            18.833866   \n",
       "394  volkswagen         pickup  1982          4            18.706323   \n",
       "326  volkswagen   dasherdiesel  1980          4            18.451237   \n",
       "..          ...            ...   ...        ...                  ...   \n",
       "103   chevrolet         impala  1973          8             4.676581   \n",
       "27        dodge           d200  1970          8             4.676581   \n",
       "26    chevrolet            c20  1970          8             4.251437   \n",
       "25         ford           f250  1970          8             4.251437   \n",
       "28           hi          1200d  1970          8             3.826293   \n",
       "\n",
       "     horsepower  \n",
       "322        65.0  \n",
       "329        67.0  \n",
       "325        48.0  \n",
       "394        52.0  \n",
       "326        48.0  \n",
       "..          ...  \n",
       "103       150.0  \n",
       "27        210.0  \n",
       "26        200.0  \n",
       "25        215.0  \n",
       "28        193.0  \n",
       "\n",
       "[392 rows x 6 columns]"
      ]
     },
     "execution_count": 103,
     "metadata": {},
     "output_type": "execute_result"
    }
   ],
   "source": [
    "# 6. Cal Company vs Car Name Vs Kilometer per liter\n",
    "df1[['car_model','car_name','year','cylinders','Kilometer_per_liter','horsepower']].sort_values(by='Kilometer_per_liter',ascending=False)"
   ]
  },
  {
   "cell_type": "code",
   "execution_count": 102,
   "id": "bdd59c25",
   "metadata": {},
   "outputs": [
    {
     "data": {
      "text/html": [
       "<div>\n",
       "<style scoped>\n",
       "    .dataframe tbody tr th:only-of-type {\n",
       "        vertical-align: middle;\n",
       "    }\n",
       "\n",
       "    .dataframe tbody tr th {\n",
       "        vertical-align: top;\n",
       "    }\n",
       "\n",
       "    .dataframe thead th {\n",
       "        text-align: right;\n",
       "    }\n",
       "</style>\n",
       "<table border=\"1\" class=\"dataframe\">\n",
       "  <thead>\n",
       "    <tr style=\"text-align: right;\">\n",
       "      <th></th>\n",
       "      <th>car_name</th>\n",
       "      <th>cylinders</th>\n",
       "      <th>horsepower</th>\n",
       "      <th>Kilometer_per_liter</th>\n",
       "    </tr>\n",
       "  </thead>\n",
       "  <tbody>\n",
       "    <tr>\n",
       "      <th>245</th>\n",
       "      <td>fiesta</td>\n",
       "      <td>4</td>\n",
       "      <td>66.0</td>\n",
       "      <td>15.347688</td>\n",
       "    </tr>\n",
       "    <tr>\n",
       "      <th>351</th>\n",
       "      <td>escort4w</td>\n",
       "      <td>4</td>\n",
       "      <td>65.0</td>\n",
       "      <td>14.624944</td>\n",
       "    </tr>\n",
       "    <tr>\n",
       "      <th>352</th>\n",
       "      <td>escort2h</td>\n",
       "      <td>4</td>\n",
       "      <td>65.0</td>\n",
       "      <td>12.711797</td>\n",
       "    </tr>\n",
       "    <tr>\n",
       "      <th>396</th>\n",
       "      <td>ranger</td>\n",
       "      <td>4</td>\n",
       "      <td>79.0</td>\n",
       "      <td>11.904024</td>\n",
       "    </tr>\n",
       "    <tr>\n",
       "      <th>393</th>\n",
       "      <td>mustanggl</td>\n",
       "      <td>4</td>\n",
       "      <td>86.0</td>\n",
       "      <td>11.478880</td>\n",
       "    </tr>\n",
       "    <tr>\n",
       "      <th>206</th>\n",
       "      <td>pinto</td>\n",
       "      <td>4</td>\n",
       "      <td>72.0</td>\n",
       "      <td>11.266308</td>\n",
       "    </tr>\n",
       "    <tr>\n",
       "      <th>314</th>\n",
       "      <td>fairmont</td>\n",
       "      <td>4</td>\n",
       "      <td>88.0</td>\n",
       "      <td>11.223794</td>\n",
       "    </tr>\n",
       "    <tr>\n",
       "      <th>130</th>\n",
       "      <td>pinto</td>\n",
       "      <td>4</td>\n",
       "      <td>80.0</td>\n",
       "      <td>11.053736</td>\n",
       "    </tr>\n",
       "    <tr>\n",
       "      <th>236</th>\n",
       "      <td>mustangii22</td>\n",
       "      <td>4</td>\n",
       "      <td>89.0</td>\n",
       "      <td>10.841165</td>\n",
       "    </tr>\n",
       "    <tr>\n",
       "      <th>255</th>\n",
       "      <td>fairmontman</td>\n",
       "      <td>4</td>\n",
       "      <td>88.0</td>\n",
       "      <td>10.671107</td>\n",
       "    </tr>\n",
       "  </tbody>\n",
       "</table>\n",
       "</div>"
      ],
      "text/plain": [
       "        car_name  cylinders  horsepower  Kilometer_per_liter\n",
       "245       fiesta          4        66.0            15.347688\n",
       "351     escort4w          4        65.0            14.624944\n",
       "352     escort2h          4        65.0            12.711797\n",
       "396       ranger          4        79.0            11.904024\n",
       "393    mustanggl          4        86.0            11.478880\n",
       "206        pinto          4        72.0            11.266308\n",
       "314     fairmont          4        88.0            11.223794\n",
       "130        pinto          4        80.0            11.053736\n",
       "236  mustangii22          4        89.0            10.841165\n",
       "255  fairmontman          4        88.0            10.671107"
      ]
     },
     "execution_count": 102,
     "metadata": {},
     "output_type": "execute_result"
    }
   ],
   "source": [
    "ford = df[df1['car_model']=='ford'][['car_name','cylinders','horsepower','Kilometer_per_liter']].sort_values(by='Kilometer_per_liter',ascending=False)[:10]\n",
    "ford"
   ]
  },
  {
   "cell_type": "code",
   "execution_count": 101,
   "id": "06666565",
   "metadata": {},
   "outputs": [
    {
     "data": {
      "text/plain": [
       "(array([ 0.,  2.,  4.,  6.,  8., 10., 12., 14., 16., 18.]),\n",
       " [Text(0, 0, ''),\n",
       "  Text(0, 0, ''),\n",
       "  Text(0, 0, ''),\n",
       "  Text(0, 0, ''),\n",
       "  Text(0, 0, ''),\n",
       "  Text(0, 0, ''),\n",
       "  Text(0, 0, ''),\n",
       "  Text(0, 0, ''),\n",
       "  Text(0, 0, ''),\n",
       "  Text(0, 0, '')])"
      ]
     },
     "execution_count": 101,
     "metadata": {},
     "output_type": "execute_result"
    },
    {
     "data": {
      "image/png": "[encoded data removed]",
      "text/plain": [
       "<Figure size 432x288 with 1 Axes>"
      ]
     },
     "metadata": {
      "needs_background": "light"
     },
     "output_type": "display_data"
    }
   ],
   "source": [
    "sns.barplot(y=ford['car_name'],x=ford['Kilometer_per_liter'])\n",
    "plt.xticks(rotation=45)"
   ]
  },
  {
   "cell_type": "code",
   "execution_count": 116,
   "id": "d68a17bd",
   "metadata": {},
   "outputs": [],
   "source": [
    "mazda_ford = df1[(df1['car_name']=='glc')|(df1['car_name']=='fiesta')]\n",
    "columns=['car_model', 'car_name','origin', 'cylinders', 'displacement', 'horsepower', 'weight',\n",
    "       'acceleration', 'year', 'Kilometer_per_liter',\n",
    "       'log_mileage']\n"
   ]
  },
  {
   "cell_type": "code",
   "execution_count": 119,
   "id": "84275b17",
   "metadata": {},
   "outputs": [
    {
     "data": {
      "text/html": [
       "<div>\n",
       "<style scoped>\n",
       "    .dataframe tbody tr th:only-of-type {\n",
       "        vertical-align: middle;\n",
       "    }\n",
       "\n",
       "    .dataframe tbody tr th {\n",
       "        vertical-align: top;\n",
       "    }\n",
       "\n",
       "    .dataframe thead th {\n",
       "        text-align: right;\n",
       "    }\n",
       "</style>\n",
       "<table border=\"1\" class=\"dataframe\">\n",
       "  <thead>\n",
       "    <tr style=\"text-align: right;\">\n",
       "      <th></th>\n",
       "      <th>car_model</th>\n",
       "      <th>car_name</th>\n",
       "      <th>origin</th>\n",
       "      <th>cylinders</th>\n",
       "      <th>displacement</th>\n",
       "      <th>horsepower</th>\n",
       "      <th>weight</th>\n",
       "      <th>acceleration</th>\n",
       "      <th>year</th>\n",
       "      <th>Kilometer_per_liter</th>\n",
       "      <th>log_mileage</th>\n",
       "    </tr>\n",
       "  </thead>\n",
       "  <tbody>\n",
       "    <tr>\n",
       "      <th>245</th>\n",
       "      <td>ford</td>\n",
       "      <td>fiesta</td>\n",
       "      <td>1</td>\n",
       "      <td>4</td>\n",
       "      <td>98.0</td>\n",
       "      <td>66.0</td>\n",
       "      <td>1800</td>\n",
       "      <td>14.4</td>\n",
       "      <td>1978</td>\n",
       "      <td>15.347688</td>\n",
       "      <td>2.730965</td>\n",
       "    </tr>\n",
       "    <tr>\n",
       "      <th>322</th>\n",
       "      <td>mazda</td>\n",
       "      <td>glc</td>\n",
       "      <td>3</td>\n",
       "      <td>4</td>\n",
       "      <td>86.0</td>\n",
       "      <td>65.0</td>\n",
       "      <td>2110</td>\n",
       "      <td>17.9</td>\n",
       "      <td>1980</td>\n",
       "      <td>19.811697</td>\n",
       "      <td>2.986273</td>\n",
       "    </tr>\n",
       "  </tbody>\n",
       "</table>\n",
       "</div>"
      ],
      "text/plain": [
       "    car_model car_name origin  cylinders  displacement  horsepower  weight  \\\n",
       "245      ford   fiesta      1          4          98.0        66.0    1800   \n",
       "322     mazda      glc      3          4          86.0        65.0    2110   \n",
       "\n",
       "     acceleration  year  Kilometer_per_liter  log_mileage  \n",
       "245          14.4  1978            15.347688     2.730965  \n",
       "322          17.9  1980            19.811697     2.986273  "
      ]
     },
     "execution_count": 119,
     "metadata": {},
     "output_type": "execute_result"
    }
   ],
   "source": [
    "mazda_ford.loc[:,columns]"
   ]
  },
  {
   "cell_type": "code",
   "execution_count": 58,
   "id": "c93a52fd",
   "metadata": {},
   "outputs": [
    {
     "data": {
      "text/plain": [
       "<AxesSubplot:xlabel='year', ylabel='Kilometer_per_liter'>"
      ]
     },
     "execution_count": 58,
     "metadata": {},
     "output_type": "execute_result"
    },
    {
     "data": {
      "image/png": "[encoded data removed]",
      "text/plain": [
       "<Figure size 432x288 with 1 Axes>"
      ]
     },
     "metadata": {
      "needs_background": "light"
     },
     "output_type": "display_data"
    }
   ],
   "source": [
    "sns.regplot(mazda['year'],mazda['Kilometer_per_liter'])"
   ]
  },
  {
   "cell_type": "code",
   "execution_count": 89,
   "id": "17fb0364",
   "metadata": {},
   "outputs": [
    {
     "data": {
      "image/png": "[encoded data removed]",
      "text/plain": [
       "<Figure size 864x576 with 1 Axes>"
      ]
     },
     "metadata": {},
     "output_type": "display_data"
    }
   ],
   "source": [
    "plt.figure(figsize=(12,8))\n",
    "explode = [0.1,0,0,0,0]\n",
    "plt.pie(carmodel_count[:5],explode=explode,labels = df1.car_model.value_counts().keys()[:5],autopct=\"%.2f%%\"\n",
    "        ,textprops={'fontsize':18});"
   ]
  },
  {
   "cell_type": "code",
   "execution_count": 73,
   "id": "15527258",
   "metadata": {},
   "outputs": [
    {
     "data": {
      "text/plain": [
       "Index(['ford', 'chevrolet', 'plymouth', 'dodge', 'amc', 'toyota', 'datsun',\n",
       "       'volkswagen', 'buick', 'pontiac', 'honda', 'mazda', 'mercury',\n",
       "       'oldsmobile', 'fiat', 'peugeot', 'audi', 'volvo', 'chrysler', 'saab',\n",
       "       'opel', 'subaru', 'mercedes', 'renault', 'cadillac', 'bmw', 'capri',\n",
       "       'hi', 'triumph', 'nissan'],\n",
       "      dtype='object')"
      ]
     },
     "execution_count": 73,
     "metadata": {},
     "output_type": "execute_result"
    }
   ],
   "source": [
    "df1.car_model.value_counts().keys()"
   ]
  },
  {
   "cell_type": "markdown",
   "id": "d9c963b7",
   "metadata": {},
   "source": [
    "glc car of Mazda has the highest Mileage with 19.81 km/l\n",
    "\n",
    "1200d of hi has least Mileage with 3.82 km/l"
   ]
  },
  {
   "cell_type": "code",
   "execution_count": 47,
   "id": "1707df6e",
   "metadata": {},
   "outputs": [
    {
     "data": {
      "text/plain": [
       "<AxesSubplot:xlabel='year', ylabel='Kilometer_per_liter'>"
      ]
     },
     "execution_count": 47,
     "metadata": {},
     "output_type": "execute_result"
    },
    {
     "data": {
      "image/png": "[encoded data removed]",
      "text/plain": [
       "<Figure size 432x288 with 1 Axes>"
      ]
     },
     "metadata": {
      "needs_background": "light"
     },
     "output_type": "display_data"
    }
   ],
   "source": [
    "# 7. year Vs Kilometer per liter\n",
    "sns.boxplot(df1['year'],df1['Kilometer_per_liter'],palette='husl')"
   ]
  },
  {
   "cell_type": "markdown",
   "id": "3a2d834c",
   "metadata": {},
   "source": [
    "Mileage of car increased year by year"
   ]
  },
  {
   "cell_type": "markdown",
   "id": "69c404a8",
   "metadata": {},
   "source": [
    "# Correlation"
   ]
  },
  {
   "cell_type": "code",
   "execution_count": 120,
   "id": "1621f586",
   "metadata": {},
   "outputs": [
    {
     "data": {
      "text/html": [
       "<div>\n",
       "<style scoped>\n",
       "    .dataframe tbody tr th:only-of-type {\n",
       "        vertical-align: middle;\n",
       "    }\n",
       "\n",
       "    .dataframe tbody tr th {\n",
       "        vertical-align: top;\n",
       "    }\n",
       "\n",
       "    .dataframe thead th {\n",
       "        text-align: right;\n",
       "    }\n",
       "</style>\n",
       "<table border=\"1\" class=\"dataframe\">\n",
       "  <thead>\n",
       "    <tr style=\"text-align: right;\">\n",
       "      <th></th>\n",
       "      <th>displacement</th>\n",
       "      <th>horsepower</th>\n",
       "      <th>weight</th>\n",
       "      <th>acceleration</th>\n",
       "      <th>year</th>\n",
       "    </tr>\n",
       "  </thead>\n",
       "  <tbody>\n",
       "    <tr>\n",
       "      <th>displacement</th>\n",
       "      <td>1.000000</td>\n",
       "      <td>0.897257</td>\n",
       "      <td>0.932994</td>\n",
       "      <td>-0.543800</td>\n",
       "      <td>-0.369855</td>\n",
       "    </tr>\n",
       "    <tr>\n",
       "      <th>horsepower</th>\n",
       "      <td>0.897257</td>\n",
       "      <td>1.000000</td>\n",
       "      <td>0.864538</td>\n",
       "      <td>-0.689196</td>\n",
       "      <td>-0.416361</td>\n",
       "    </tr>\n",
       "    <tr>\n",
       "      <th>weight</th>\n",
       "      <td>0.932994</td>\n",
       "      <td>0.864538</td>\n",
       "      <td>1.000000</td>\n",
       "      <td>-0.416839</td>\n",
       "      <td>-0.309120</td>\n",
       "    </tr>\n",
       "    <tr>\n",
       "      <th>acceleration</th>\n",
       "      <td>-0.543800</td>\n",
       "      <td>-0.689196</td>\n",
       "      <td>-0.416839</td>\n",
       "      <td>1.000000</td>\n",
       "      <td>0.290316</td>\n",
       "    </tr>\n",
       "    <tr>\n",
       "      <th>year</th>\n",
       "      <td>-0.369855</td>\n",
       "      <td>-0.416361</td>\n",
       "      <td>-0.309120</td>\n",
       "      <td>0.290316</td>\n",
       "      <td>1.000000</td>\n",
       "    </tr>\n",
       "  </tbody>\n",
       "</table>\n",
       "</div>"
      ],
      "text/plain": [
       "              displacement  horsepower    weight  acceleration      year\n",
       "displacement      1.000000    0.897257  0.932994     -0.543800 -0.369855\n",
       "horsepower        0.897257    1.000000  0.864538     -0.689196 -0.416361\n",
       "weight            0.932994    0.864538  1.000000     -0.416839 -0.309120\n",
       "acceleration     -0.543800   -0.689196 -0.416839      1.000000  0.290316\n",
       "year             -0.369855   -0.416361 -0.309120      0.290316  1.000000"
      ]
     },
     "execution_count": 120,
     "metadata": {},
     "output_type": "execute_result"
    }
   ],
   "source": [
    "data = df1.drop(['cylinders','Kilometer_per_liter','log_mileage','origin'],axis=1)\n",
    "corr = data.corr()\n",
    "corr"
   ]
  },
  {
   "cell_type": "code",
   "execution_count": 123,
   "id": "bfa96bf3",
   "metadata": {},
   "outputs": [
    {
     "data": {
      "text/plain": [
       "<AxesSubplot:>"
      ]
     },
     "execution_count": 123,
     "metadata": {},
     "output_type": "execute_result"
    },
    {
     "data": {
      "image/png": "[encoded data removed]",
      "text/plain": [
       "<Figure size 432x288 with 2 Axes>"
      ]
     },
     "metadata": {
      "needs_background": "light"
     },
     "output_type": "display_data"
    }
   ],
   "source": [
    "x = df1.corr()\n",
    "sns.heatmap(x[x>0.9],annot=True)"
   ]
  },
  {
   "cell_type": "markdown",
   "id": "58bfff6c",
   "metadata": {},
   "source": [
    "By looking at it We can see Displacemrnt,HP,Weight have strong correlation with each other . We should not select these features together to train model\n",
    ".As one of the assumption of Linear Regression was Multi Colinearity shouldn't exist"
   ]
  },
  {
   "cell_type": "code",
   "execution_count": 49,
   "id": "3130ff2d",
   "metadata": {},
   "outputs": [
    {
     "data": {
      "text/html": [
       "<div>\n",
       "<style scoped>\n",
       "    .dataframe tbody tr th:only-of-type {\n",
       "        vertical-align: middle;\n",
       "    }\n",
       "\n",
       "    .dataframe tbody tr th {\n",
       "        vertical-align: top;\n",
       "    }\n",
       "\n",
       "    .dataframe thead th {\n",
       "        text-align: right;\n",
       "    }\n",
       "</style>\n",
       "<table border=\"1\" class=\"dataframe\">\n",
       "  <thead>\n",
       "    <tr style=\"text-align: right;\">\n",
       "      <th></th>\n",
       "      <th>origin</th>\n",
       "      <th>cylinders</th>\n",
       "      <th>horsepower</th>\n",
       "      <th>acceleration</th>\n",
       "      <th>year</th>\n",
       "      <th>Kilometer_per_liter</th>\n",
       "      <th>log_mileage</th>\n",
       "    </tr>\n",
       "  </thead>\n",
       "  <tbody>\n",
       "    <tr>\n",
       "      <th>0</th>\n",
       "      <td>1</td>\n",
       "      <td>8</td>\n",
       "      <td>130.0</td>\n",
       "      <td>12.0</td>\n",
       "      <td>1970</td>\n",
       "      <td>7.652587</td>\n",
       "      <td>2.035044</td>\n",
       "    </tr>\n",
       "    <tr>\n",
       "      <th>1</th>\n",
       "      <td>1</td>\n",
       "      <td>8</td>\n",
       "      <td>165.0</td>\n",
       "      <td>11.5</td>\n",
       "      <td>1970</td>\n",
       "      <td>6.377156</td>\n",
       "      <td>1.852722</td>\n",
       "    </tr>\n",
       "    <tr>\n",
       "      <th>2</th>\n",
       "      <td>1</td>\n",
       "      <td>8</td>\n",
       "      <td>150.0</td>\n",
       "      <td>11.0</td>\n",
       "      <td>1970</td>\n",
       "      <td>7.652587</td>\n",
       "      <td>2.035044</td>\n",
       "    </tr>\n",
       "    <tr>\n",
       "      <th>3</th>\n",
       "      <td>1</td>\n",
       "      <td>8</td>\n",
       "      <td>150.0</td>\n",
       "      <td>12.0</td>\n",
       "      <td>1970</td>\n",
       "      <td>6.802299</td>\n",
       "      <td>1.917261</td>\n",
       "    </tr>\n",
       "    <tr>\n",
       "      <th>4</th>\n",
       "      <td>1</td>\n",
       "      <td>8</td>\n",
       "      <td>140.0</td>\n",
       "      <td>10.5</td>\n",
       "      <td>1970</td>\n",
       "      <td>7.227443</td>\n",
       "      <td>1.977885</td>\n",
       "    </tr>\n",
       "  </tbody>\n",
       "</table>\n",
       "</div>"
      ],
      "text/plain": [
       "  origin  cylinders  horsepower  acceleration  year  Kilometer_per_liter  \\\n",
       "0      1          8       130.0          12.0  1970             7.652587   \n",
       "1      1          8       165.0          11.5  1970             6.377156   \n",
       "2      1          8       150.0          11.0  1970             7.652587   \n",
       "3      1          8       150.0          12.0  1970             6.802299   \n",
       "4      1          8       140.0          10.5  1970             7.227443   \n",
       "\n",
       "   log_mileage  \n",
       "0     2.035044  \n",
       "1     1.852722  \n",
       "2     2.035044  \n",
       "3     1.917261  \n",
       "4     1.977885  "
      ]
     },
     "execution_count": 49,
     "metadata": {},
     "output_type": "execute_result"
    }
   ],
   "source": [
    "df_final = df1.drop(['weight','displacement','car_model','car_name'],axis=1)\n",
    "df_final.head()"
   ]
  },
  {
   "cell_type": "markdown",
   "id": "b38ace2f",
   "metadata": {},
   "source": [
    "### Feature Engineering"
   ]
  },
  {
   "cell_type": "code",
   "execution_count": 50,
   "id": "02409877",
   "metadata": {},
   "outputs": [],
   "source": [
    "df_final['cylinders'] = df_final['cylinders'].astype('object')"
   ]
  },
  {
   "cell_type": "code",
   "execution_count": 51,
   "id": "fa81a4c8",
   "metadata": {},
   "outputs": [
    {
     "data": {
      "text/html": [
       "<div>\n",
       "<style scoped>\n",
       "    .dataframe tbody tr th:only-of-type {\n",
       "        vertical-align: middle;\n",
       "    }\n",
       "\n",
       "    .dataframe tbody tr th {\n",
       "        vertical-align: top;\n",
       "    }\n",
       "\n",
       "    .dataframe thead th {\n",
       "        text-align: right;\n",
       "    }\n",
       "</style>\n",
       "<table border=\"1\" class=\"dataframe\">\n",
       "  <thead>\n",
       "    <tr style=\"text-align: right;\">\n",
       "      <th></th>\n",
       "      <th>horsepower</th>\n",
       "      <th>acceleration</th>\n",
       "      <th>year</th>\n",
       "      <th>Kilometer_per_liter</th>\n",
       "      <th>log_mileage</th>\n",
       "      <th>origin_2</th>\n",
       "      <th>origin_3</th>\n",
       "      <th>cylinders_4</th>\n",
       "      <th>cylinders_5</th>\n",
       "      <th>cylinders_6</th>\n",
       "      <th>cylinders_8</th>\n",
       "    </tr>\n",
       "  </thead>\n",
       "  <tbody>\n",
       "    <tr>\n",
       "      <th>0</th>\n",
       "      <td>130.0</td>\n",
       "      <td>12.0</td>\n",
       "      <td>1970</td>\n",
       "      <td>7.652587</td>\n",
       "      <td>2.035044</td>\n",
       "      <td>0</td>\n",
       "      <td>0</td>\n",
       "      <td>0</td>\n",
       "      <td>0</td>\n",
       "      <td>0</td>\n",
       "      <td>1</td>\n",
       "    </tr>\n",
       "    <tr>\n",
       "      <th>1</th>\n",
       "      <td>165.0</td>\n",
       "      <td>11.5</td>\n",
       "      <td>1970</td>\n",
       "      <td>6.377156</td>\n",
       "      <td>1.852722</td>\n",
       "      <td>0</td>\n",
       "      <td>0</td>\n",
       "      <td>0</td>\n",
       "      <td>0</td>\n",
       "      <td>0</td>\n",
       "      <td>1</td>\n",
       "    </tr>\n",
       "    <tr>\n",
       "      <th>2</th>\n",
       "      <td>150.0</td>\n",
       "      <td>11.0</td>\n",
       "      <td>1970</td>\n",
       "      <td>7.652587</td>\n",
       "      <td>2.035044</td>\n",
       "      <td>0</td>\n",
       "      <td>0</td>\n",
       "      <td>0</td>\n",
       "      <td>0</td>\n",
       "      <td>0</td>\n",
       "      <td>1</td>\n",
       "    </tr>\n",
       "    <tr>\n",
       "      <th>3</th>\n",
       "      <td>150.0</td>\n",
       "      <td>12.0</td>\n",
       "      <td>1970</td>\n",
       "      <td>6.802299</td>\n",
       "      <td>1.917261</td>\n",
       "      <td>0</td>\n",
       "      <td>0</td>\n",
       "      <td>0</td>\n",
       "      <td>0</td>\n",
       "      <td>0</td>\n",
       "      <td>1</td>\n",
       "    </tr>\n",
       "    <tr>\n",
       "      <th>4</th>\n",
       "      <td>140.0</td>\n",
       "      <td>10.5</td>\n",
       "      <td>1970</td>\n",
       "      <td>7.227443</td>\n",
       "      <td>1.977885</td>\n",
       "      <td>0</td>\n",
       "      <td>0</td>\n",
       "      <td>0</td>\n",
       "      <td>0</td>\n",
       "      <td>0</td>\n",
       "      <td>1</td>\n",
       "    </tr>\n",
       "  </tbody>\n",
       "</table>\n",
       "</div>"
      ],
      "text/plain": [
       "   horsepower  acceleration  year  Kilometer_per_liter  log_mileage  origin_2  \\\n",
       "0       130.0          12.0  1970             7.652587     2.035044         0   \n",
       "1       165.0          11.5  1970             6.377156     1.852722         0   \n",
       "2       150.0          11.0  1970             7.652587     2.035044         0   \n",
       "3       150.0          12.0  1970             6.802299     1.917261         0   \n",
       "4       140.0          10.5  1970             7.227443     1.977885         0   \n",
       "\n",
       "   origin_3  cylinders_4  cylinders_5  cylinders_6  cylinders_8  \n",
       "0         0            0            0            0            1  \n",
       "1         0            0            0            0            1  \n",
       "2         0            0            0            0            1  \n",
       "3         0            0            0            0            1  \n",
       "4         0            0            0            0            1  "
      ]
     },
     "execution_count": 51,
     "metadata": {},
     "output_type": "execute_result"
    }
   ],
   "source": [
    "# One Hot Encoding\n",
    "df_final = pd.get_dummies(df_final,drop_first=True) # with 2 we can represent all three origins\n",
    "df_final.head()"
   ]
  },
  {
   "cell_type": "code",
   "execution_count": 52,
   "id": "f1917ef4",
   "metadata": {},
   "outputs": [],
   "source": [
    "# Standarising the data\n",
    "\n",
    "from sklearn.preprocessing import MinMaxScaler\n",
    "\n",
    "mms = MinMaxScaler()\n",
    "x = df_final.drop(['Kilometer_per_liter','log_mileage'],axis=1)\n",
    "mms.fit(x)\n",
    "X=mms.fit_transform(x)"
   ]
  },
  {
   "cell_type": "markdown",
   "id": "eb184131",
   "metadata": {},
   "source": [
    "# Model Building"
   ]
  },
  {
   "cell_type": "code",
   "execution_count": 53,
   "id": "525edf91",
   "metadata": {},
   "outputs": [],
   "source": [
    "X\n",
    "y = df_final['log_mileage']"
   ]
  },
  {
   "cell_type": "code",
   "execution_count": 54,
   "id": "98300ba4",
   "metadata": {},
   "outputs": [
    {
     "name": "stdout",
     "output_type": "stream",
     "text": [
      "(313, 9) (79, 9) (313,) (79,)\n"
     ]
    }
   ],
   "source": [
    "from sklearn.model_selection import train_test_split\n",
    "x_train,x_test,y_train,y_test = train_test_split(X,y,test_size=0.20,random_state=19)\n",
    "print(x_train.shape,x_test.shape,y_train.shape,y_test.shape)"
   ]
  },
  {
   "cell_type": "code",
   "execution_count": 55,
   "id": "735cc4d5",
   "metadata": {},
   "outputs": [],
   "source": [
    "from sklearn.model_selection import RandomizedSearchCV,GridSearchCV\n",
    "from sklearn.linear_model import LinearRegression,SGDRegressor\n",
    "from xgboost import XGBRegressor"
   ]
  },
  {
   "cell_type": "code",
   "execution_count": 56,
   "id": "1274a136",
   "metadata": {},
   "outputs": [],
   "source": [
    "model_params = {\n",
    "    'SGDRegressor':{\n",
    "        'model':SGDRegressor(),\n",
    "        'params':{\n",
    "            'loss':['squared_error','huber'],\n",
    "            'penalty':['l2', 'l1', 'elasticnet'],\n",
    "            'alpha':[0.0001,0.001],\n",
    "            'max_iter':[1000,1500,2000,2500,3000,3500,4000]\n",
    "       }\n",
    "   },\n",
    "    'XGBRegressor':{\n",
    "        'model':XGBRegressor(),\n",
    "        'params':{\n",
    "            'booster':['gbtree', 'gblinear'],\n",
    "            'n_estimators':[int(x) for x in np.linspace(100,1000,10)],\n",
    "            'max_leaves':[0,1,2,3,4,5,6],\n",
    "            'max_depth':[int(x) for x in np.linspace(1,10,10)]\n",
    "       }\n",
    "   }\n",
    "\n",
    "}\n",
    "    "
   ]
  },
  {
   "cell_type": "code",
   "execution_count": 57,
   "id": "38783570",
   "metadata": {},
   "outputs": [
    {
     "name": "stdout",
     "output_type": "stream",
     "text": [
      "Fitting 5 folds for each of 5 candidates, totalling 25 fits\n",
      "Fitting 5 folds for each of 5 candidates, totalling 25 fits\n"
     ]
    }
   ],
   "source": [
    "scores = []\n",
    "for model_name,mp in model_params.items():\n",
    "    rf = RandomizedSearchCV(mp['model'],mp['params'],cv=5,return_train_score=False,random_state=100,n_iter=5\n",
    "                           ,n_jobs=-1,verbose=2)\n",
    "    rf.fit(x_train,y_train)\n",
    "    scores.append({\n",
    "        'model':model_name,\n",
    "        'best_score':rf.best_score_,\n",
    "        'best_params':rf.best_params_\n",
    "    })"
   ]
  },
  {
   "cell_type": "code",
   "execution_count": 58,
   "id": "f24bf49d",
   "metadata": {},
   "outputs": [
    {
     "data": {
      "text/html": [
       "<div>\n",
       "<style scoped>\n",
       "    .dataframe tbody tr th:only-of-type {\n",
       "        vertical-align: middle;\n",
       "    }\n",
       "\n",
       "    .dataframe tbody tr th {\n",
       "        vertical-align: top;\n",
       "    }\n",
       "\n",
       "    .dataframe thead th {\n",
       "        text-align: right;\n",
       "    }\n",
       "</style>\n",
       "<table border=\"1\" class=\"dataframe\">\n",
       "  <thead>\n",
       "    <tr style=\"text-align: right;\">\n",
       "      <th></th>\n",
       "      <th>model</th>\n",
       "      <th>best_score</th>\n",
       "      <th>best_params</th>\n",
       "    </tr>\n",
       "  </thead>\n",
       "  <tbody>\n",
       "    <tr>\n",
       "      <th>0</th>\n",
       "      <td>SGDRegressor</td>\n",
       "      <td>0.653023</td>\n",
       "      <td>{'penalty': 'l2', 'max_iter': 2500, 'loss': 's...</td>\n",
       "    </tr>\n",
       "    <tr>\n",
       "      <th>1</th>\n",
       "      <td>XGBRegressor</td>\n",
       "      <td>0.853357</td>\n",
       "      <td>{'n_estimators': 400, 'max_leaves': 5, 'max_de...</td>\n",
       "    </tr>\n",
       "  </tbody>\n",
       "</table>\n",
       "</div>"
      ],
      "text/plain": [
       "          model  best_score                                        best_params\n",
       "0  SGDRegressor    0.653023  {'penalty': 'l2', 'max_iter': 2500, 'loss': 's...\n",
       "1  XGBRegressor    0.853357  {'n_estimators': 400, 'max_leaves': 5, 'max_de..."
      ]
     },
     "execution_count": 58,
     "metadata": {},
     "output_type": "execute_result"
    }
   ],
   "source": [
    "df_comp = pd.DataFrame(scores,columns=['model','best_score','best_params'])\n",
    "df_comp"
   ]
  },
  {
   "cell_type": "code",
   "execution_count": 59,
   "id": "95daad15",
   "metadata": {},
   "outputs": [],
   "source": [
    "df_comp.to_csv(r'C:\\Users\\Lenovo\\Machine Learning\\Linear Regression Projects\\results.csv')"
   ]
  },
  {
   "cell_type": "code",
   "execution_count": 60,
   "id": "25b9b5f7",
   "metadata": {},
   "outputs": [
    {
     "data": {
      "text/plain": [
       "{'n_estimators': 400, 'max_leaves': 5, 'max_depth': 1, 'booster': 'gbtree'}"
      ]
     },
     "execution_count": 60,
     "metadata": {},
     "output_type": "execute_result"
    }
   ],
   "source": [
    "rf.best_params_"
   ]
  },
  {
   "cell_type": "code",
   "execution_count": 62,
   "id": "11b4b67a",
   "metadata": {},
   "outputs": [],
   "source": [
    "from sklearn.metrics import r2_score,mean_absolute_error,mean_squared_error"
   ]
  },
  {
   "cell_type": "code",
   "execution_count": 66,
   "id": "80e9ba78",
   "metadata": {},
   "outputs": [
    {
     "name": "stdout",
     "output_type": "stream",
     "text": [
      "MAE:  0.1291501270295562\n",
      "MSE:  0.02867507373389792\n"
     ]
    }
   ],
   "source": [
    "SGD = SGDRegressor(penalty='l2',max_iter= 2500,loss='squared_error',alpha= 0.001,random_state=100)\n",
    "SGD.fit(x_train,y_train)\n",
    "predictions = SGD.predict(x_test)\n",
    "\n",
    "MAE = mean_absolute_error(y_test,predictions)\n",
    "MSE = mean_squared_error(y_test,predictions)\n",
    "\n",
    "\n",
    "print('MAE: ',MAE)\n",
    "print('MSE: ',MSE)"
   ]
  },
  {
   "cell_type": "code",
   "execution_count": 71,
   "id": "62f82f64",
   "metadata": {},
   "outputs": [
    {
     "data": {
      "text/plain": [
       "0.7621289047681026"
      ]
     },
     "execution_count": 71,
     "metadata": {},
     "output_type": "execute_result"
    }
   ],
   "source": [
    "from sklearn import metrics\n",
    "r2_score = metrics.r2_score(y_test,predictions)\n",
    "r2_score"
   ]
  },
  {
   "cell_type": "code",
   "execution_count": 63,
   "id": "dc6ec2ce",
   "metadata": {},
   "outputs": [
    {
     "name": "stdout",
     "output_type": "stream",
     "text": [
      "R2_score:  0.9276430499128431\n",
      "MAE:  0.07193379674724928\n",
      "MSE:  0.0087225430937141\n"
     ]
    }
   ],
   "source": [
    "xgb = XGBRegressor(booster='gbtree',max_depth=1, max_leaves=5,n_estimators= 400,random_state=100)\n",
    "xgb.fit(x_train,y_train)\n",
    "predictions = xgb.predict(x_test)\n",
    "r2_score = r2_score(y_test,predictions)\n",
    "MAE = mean_absolute_error(y_test,predictions)\n",
    "MSE = mean_squared_error(y_test,predictions)\n",
    "\n",
    "print('R2_score: ',r2_score)\n",
    "print('MAE: ',MAE)\n",
    "print('MSE: ',MSE)"
   ]
  },
  {
   "cell_type": "code",
   "execution_count": null,
   "id": "54c8ff0a",
   "metadata": {},
   "outputs": [],
   "source": []
  }
 ],
 "metadata": {
  "kernelspec": {
   "display_name": "Python 3 (ipykernel)",
   "language": "python",
   "name": "python3"
  },
  "language_info": {
   "codemirror_mode": {
    "name": "ipython",
    "version": 3
   },
   "file_extension": ".py",
   "mimetype": "text/x-python",
   "name": "python",
   "nbconvert_exporter": "python",
   "pygments_lexer": "ipython3",
   "version": "3.9.13"
  }
 },
 "nbformat": 4,
 "nbformat_minor": 5
}
